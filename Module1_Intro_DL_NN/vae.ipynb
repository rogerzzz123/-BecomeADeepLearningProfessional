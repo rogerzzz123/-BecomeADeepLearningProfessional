{
 "cells": [
  {
   "cell_type": "markdown",
   "id": "charged-onion",
   "metadata": {},
   "source": [
    "# Build a Convolutional VAE and train it on Cifar10\n",
    "\n",
    "As we already mentioned during the lesson, here you are on your own. You will have to build everything from scratch. Your goal is to build a convolutional VAE of your own structure and train it on CIFAR10. Hyperparameters, optimizers, losses are also your own choice. \n",
    "\n",
    "Of course you can and should borrow stuff from the lessons and previous Jupyter notebooks.This is especially true for the data loading functionalities. You should use our custom CIFAR10 dataloader, as we did in the previous exercises.\n",
    "\n",
    "As always, feel free to advice the Pytorch documentation (links in the Appendix). Please make sure to have a working code before you leave. Good luck."
   ]
  },
  {
   "cell_type": "code",
   "execution_count": null,
   "id": "behind-london",
   "metadata": {},
   "outputs": [],
   "source": []
  },
  {
   "cell_type": "code",
   "execution_count": null,
   "id": "cloudy-newton",
   "metadata": {},
   "outputs": [],
   "source": []
  },
  {
   "cell_type": "code",
   "execution_count": null,
   "id": "advance-camcorder",
   "metadata": {},
   "outputs": [],
   "source": []
  },
  {
   "cell_type": "code",
   "execution_count": null,
   "id": "pointed-valuation",
   "metadata": {},
   "outputs": [],
   "source": []
  }
 ],
 "metadata": {
  "kernelspec": {
   "display_name": "Python 3",
   "language": "python",
   "name": "python3"
  },
  "language_info": {
   "codemirror_mode": {
    "name": "ipython",
    "version": 3
   },
   "file_extension": ".py",
   "mimetype": "text/x-python",
   "name": "python",
   "nbconvert_exporter": "python",
   "pygments_lexer": "ipython3",
   "version": "3.7.10"
  }
 },
 "nbformat": 4,
 "nbformat_minor": 5
}
